{
 "cells": [
  {
   "cell_type": "markdown",
   "id": "2c6f33cf",
   "metadata": {},
   "source": [
    "# Classification - Example\n",
    "In this script we demonstrate how a Machine Learning workflow can look like when you use a train, validation and test set. "
   ]
  },
  {
   "cell_type": "code",
   "execution_count": 1,
   "id": "10f414f5",
   "metadata": {},
   "outputs": [],
   "source": [
    "import numpy as np\n",
    "import pandas as pd\n",
    "import matplotlib.pyplot as plt \n",
    "\n",
    "from sklearn.model_selection import train_test_split\n",
    "from sklearn.datasets import load_iris\n",
    "\n",
    "from sklearn.model_selection import GridSearchCV\n",
    "from sklearn.linear_model import LogisticRegression\n",
    "from sklearn.tree import DecisionTreeClassifier\n",
    "\n",
    "from sklearn.metrics import classification_report\n",
    "from sklearn.metrics import confusion_matrix, ConfusionMatrixDisplay"
   ]
  },
  {
   "cell_type": "markdown",
   "id": "61241530",
   "metadata": {},
   "source": [
    "# Loading Data"
   ]
  },
  {
   "cell_type": "code",
   "execution_count": 2,
   "id": "fedd8277",
   "metadata": {},
   "outputs": [],
   "source": [
    "# This code is merely executed to see the description and target names in a smooth way\n",
    "iris = load_iris()"
   ]
  },
  {
   "cell_type": "code",
   "execution_count": 3,
   "id": "758c902a",
   "metadata": {},
   "outputs": [],
   "source": [
    "# print(iris.DESCR)"
   ]
  },
  {
   "cell_type": "code",
   "execution_count": 4,
   "id": "fe390c0c",
   "metadata": {},
   "outputs": [
    {
     "data": {
      "text/plain": [
       "array(['setosa', 'versicolor', 'virginica'], dtype='<U10')"
      ]
     },
     "execution_count": 4,
     "metadata": {},
     "output_type": "execute_result"
    }
   ],
   "source": [
    "iris.target_names"
   ]
  },
  {
   "cell_type": "markdown",
   "id": "2fe6425a",
   "metadata": {},
   "source": [
    "## Storing/Loading the data in the way it will be used"
   ]
  },
  {
   "cell_type": "code",
   "execution_count": 5,
   "id": "de3eee80",
   "metadata": {},
   "outputs": [],
   "source": [
    "X, y = load_iris(return_X_y=True, as_frame=True)\n",
    "\n",
    "# Only choose two variables for my model\n",
    "X = X[['sepal length (cm)', 'sepal width (cm)']]"
   ]
  },
  {
   "cell_type": "code",
   "execution_count": 6,
   "id": "d922eba1",
   "metadata": {},
   "outputs": [
    {
     "name": "stdout",
     "output_type": "stream",
     "text": [
      "<class 'pandas.core.frame.DataFrame'>\n",
      "RangeIndex: 150 entries, 0 to 149\n",
      "Data columns (total 2 columns):\n",
      " #   Column             Non-Null Count  Dtype  \n",
      "---  ------             --------------  -----  \n",
      " 0   sepal length (cm)  150 non-null    float64\n",
      " 1   sepal width (cm)   150 non-null    float64\n",
      "dtypes: float64(2)\n",
      "memory usage: 2.5 KB\n",
      "None\n"
     ]
    }
   ],
   "source": [
    "print(X.info())"
   ]
  },
  {
   "cell_type": "code",
   "execution_count": 7,
   "id": "994f9713",
   "metadata": {},
   "outputs": [
    {
     "name": "stdout",
     "output_type": "stream",
     "text": [
      "<class 'pandas.core.series.Series'>\n",
      "RangeIndex: 150 entries, 0 to 149\n",
      "Series name: target\n",
      "Non-Null Count  Dtype\n",
      "--------------  -----\n",
      "150 non-null    int32\n",
      "dtypes: int32(1)\n",
      "memory usage: 728.0 bytes\n",
      "None\n"
     ]
    }
   ],
   "source": [
    "print(y.info())"
   ]
  },
  {
   "cell_type": "markdown",
   "id": "e058b2f2",
   "metadata": {},
   "source": [
    "# Train, Validation, and Test Set"
   ]
  },
  {
   "cell_type": "code",
   "execution_count": 8,
   "id": "07de837d",
   "metadata": {},
   "outputs": [],
   "source": [
    "X_train_full, X_test, y_train_full, y_test = train_test_split(X, y, test_size=0.2, random_state=40)\n",
    "X_train, X_val, y_train, y_val = train_test_split(X_train_full, y_train_full, test_size=0.3, random_state=36)"
   ]
  },
  {
   "cell_type": "markdown",
   "id": "95711dc4",
   "metadata": {},
   "source": [
    "# EDA\n",
    "We are only allowed to explore / learn things on the training data when creating our model. "
   ]
  },
  {
   "cell_type": "code",
   "execution_count": 9,
   "id": "7054af39",
   "metadata": {},
   "outputs": [
    {
     "data": {
      "text/plain": [
       "<matplotlib.legend.Legend at 0x164caaf5ee0>"
      ]
     },
     "execution_count": 9,
     "metadata": {},
     "output_type": "execute_result"
    },
    {
     "data": {
      "image/png": "[encoded data removed]",
      "text/plain": [
       "<Figure size 432x288 with 1 Axes>"
      ]
     },
     "metadata": {
      "needs_background": "light"
     },
     "output_type": "display_data"
    }
   ],
   "source": [
    "classes = ['setosa', 'versicolor', 'virginica']\n",
    "scatter = plt.scatter(X_train['sepal length (cm)'], X_train['sepal width (cm)'], c=y_train)\n",
    "plt.xlabel('Sepal Length (cm)')\n",
    "plt.ylabel('Sepal Width (cm)')\n",
    "plt.title('Scatter Plot of Sepal Length vs. Sepal Width (Train Data)')\n",
    "plt.legend(handles=scatter.legend_elements()[0], labels=classes)"
   ]
  },
  {
   "cell_type": "code",
   "execution_count": 10,
   "id": "accffa92",
   "metadata": {},
   "outputs": [
    {
     "data": {
      "text/html": [
       "<div>\n",
       "<style scoped>\n",
       "    .dataframe tbody tr th:only-of-type {\n",
       "        vertical-align: middle;\n",
       "    }\n",
       "\n",
       "    .dataframe tbody tr th {\n",
       "        vertical-align: top;\n",
       "    }\n",
       "\n",
       "    .dataframe thead th {\n",
       "        text-align: right;\n",
       "    }\n",
       "</style>\n",
       "<table border=\"1\" class=\"dataframe\">\n",
       "  <thead>\n",
       "    <tr style=\"text-align: right;\">\n",
       "      <th></th>\n",
       "      <th>sepal length (cm)</th>\n",
       "      <th>sepal width (cm)</th>\n",
       "    </tr>\n",
       "  </thead>\n",
       "  <tbody>\n",
       "    <tr>\n",
       "      <th>72</th>\n",
       "      <td>6.3</td>\n",
       "      <td>2.5</td>\n",
       "    </tr>\n",
       "    <tr>\n",
       "      <th>62</th>\n",
       "      <td>6.0</td>\n",
       "      <td>2.2</td>\n",
       "    </tr>\n",
       "    <tr>\n",
       "      <th>74</th>\n",
       "      <td>6.4</td>\n",
       "      <td>2.9</td>\n",
       "    </tr>\n",
       "    <tr>\n",
       "      <th>19</th>\n",
       "      <td>5.1</td>\n",
       "      <td>3.8</td>\n",
       "    </tr>\n",
       "    <tr>\n",
       "      <th>93</th>\n",
       "      <td>5.0</td>\n",
       "      <td>2.3</td>\n",
       "    </tr>\n",
       "  </tbody>\n",
       "</table>\n",
       "</div>"
      ],
      "text/plain": [
       "    sepal length (cm)  sepal width (cm)\n",
       "72                6.3               2.5\n",
       "62                6.0               2.2\n",
       "74                6.4               2.9\n",
       "19                5.1               3.8\n",
       "93                5.0               2.3"
      ]
     },
     "execution_count": 10,
     "metadata": {},
     "output_type": "execute_result"
    }
   ],
   "source": [
    "X_train.head()"
   ]
  },
  {
   "cell_type": "code",
   "execution_count": 11,
   "id": "319275dd",
   "metadata": {},
   "outputs": [
    {
     "data": {
      "text/plain": [
       "72    1\n",
       "62    1\n",
       "74    1\n",
       "19    0\n",
       "93    1\n",
       "Name: target, dtype: int32"
      ]
     },
     "execution_count": 11,
     "metadata": {},
     "output_type": "execute_result"
    }
   ],
   "source": [
    "y_train.head()"
   ]
  },
  {
   "cell_type": "code",
   "execution_count": 12,
   "id": "e08229cd",
   "metadata": {},
   "outputs": [
    {
     "data": {
      "text/plain": [
       "0    32\n",
       "1    26\n",
       "2    26\n",
       "Name: target, dtype: int64"
      ]
     },
     "execution_count": 12,
     "metadata": {},
     "output_type": "execute_result"
    }
   ],
   "source": [
    "# 0 = 'setosa', 1 = 'versicolor', 2 = 'virginica'\n",
    "y_train.value_counts()"
   ]
  },
  {
   "cell_type": "markdown",
   "id": "75253d4a",
   "metadata": {},
   "source": [
    "# Training 2 different models"
   ]
  },
  {
   "cell_type": "code",
   "execution_count": 13,
   "id": "9f48ceac",
   "metadata": {},
   "outputs": [],
   "source": [
    "log_reg = LogisticRegression()\n",
    "log_reg.fit(X_train, y_train)\n",
    "log_reg_pred = log_reg.predict(X_val)"
   ]
  },
  {
   "cell_type": "code",
   "execution_count": 14,
   "id": "37b6d73e",
   "metadata": {},
   "outputs": [],
   "source": [
    "tree_clf = DecisionTreeClassifier()\n",
    "\n",
    "# Finding the best hyperparameter through GridSearch.\n",
    "hyper_params = {'max_depth':(None, 1, 2, 5, 10)}\n",
    "clf = GridSearchCV(tree_clf, hyper_params)\n",
    "\n",
    "clf.fit(X_train, y_train)\n",
    "clf_pred = clf.predict(X_val)"
   ]
  },
  {
   "cell_type": "code",
   "execution_count": 15,
   "id": "310f2be3",
   "metadata": {},
   "outputs": [
    {
     "name": "stdout",
     "output_type": "stream",
     "text": [
      "{'max_depth': 2}\n"
     ]
    },
    {
     "data": {
      "text/html": [
       "<div>\n",
       "<style scoped>\n",
       "    .dataframe tbody tr th:only-of-type {\n",
       "        vertical-align: middle;\n",
       "    }\n",
       "\n",
       "    .dataframe tbody tr th {\n",
       "        vertical-align: top;\n",
       "    }\n",
       "\n",
       "    .dataframe thead th {\n",
       "        text-align: right;\n",
       "    }\n",
       "</style>\n",
       "<table border=\"1\" class=\"dataframe\">\n",
       "  <thead>\n",
       "    <tr style=\"text-align: right;\">\n",
       "      <th></th>\n",
       "      <th>mean_fit_time</th>\n",
       "      <th>std_fit_time</th>\n",
       "      <th>mean_score_time</th>\n",
       "      <th>std_score_time</th>\n",
       "      <th>param_max_depth</th>\n",
       "      <th>params</th>\n",
       "      <th>split0_test_score</th>\n",
       "      <th>split1_test_score</th>\n",
       "      <th>split2_test_score</th>\n",
       "      <th>split3_test_score</th>\n",
       "      <th>split4_test_score</th>\n",
       "      <th>mean_test_score</th>\n",
       "      <th>std_test_score</th>\n",
       "      <th>rank_test_score</th>\n",
       "    </tr>\n",
       "  </thead>\n",
       "  <tbody>\n",
       "    <tr>\n",
       "      <th>0</th>\n",
       "      <td>0.001200</td>\n",
       "      <td>0.000748</td>\n",
       "      <td>0.001749</td>\n",
       "      <td>0.001499</td>\n",
       "      <td>None</td>\n",
       "      <td>{'max_depth': None}</td>\n",
       "      <td>0.588235</td>\n",
       "      <td>0.647059</td>\n",
       "      <td>0.764706</td>\n",
       "      <td>0.764706</td>\n",
       "      <td>0.6250</td>\n",
       "      <td>0.677941</td>\n",
       "      <td>0.073294</td>\n",
       "      <td>3</td>\n",
       "    </tr>\n",
       "    <tr>\n",
       "      <th>1</th>\n",
       "      <td>0.001800</td>\n",
       "      <td>0.000749</td>\n",
       "      <td>0.001399</td>\n",
       "      <td>0.000491</td>\n",
       "      <td>1</td>\n",
       "      <td>{'max_depth': 1}</td>\n",
       "      <td>0.647059</td>\n",
       "      <td>0.705882</td>\n",
       "      <td>0.705882</td>\n",
       "      <td>0.647059</td>\n",
       "      <td>0.5625</td>\n",
       "      <td>0.653676</td>\n",
       "      <td>0.052634</td>\n",
       "      <td>5</td>\n",
       "    </tr>\n",
       "    <tr>\n",
       "      <th>2</th>\n",
       "      <td>0.002122</td>\n",
       "      <td>0.003504</td>\n",
       "      <td>0.000000</td>\n",
       "      <td>0.000000</td>\n",
       "      <td>2</td>\n",
       "      <td>{'max_depth': 2}</td>\n",
       "      <td>0.764706</td>\n",
       "      <td>0.647059</td>\n",
       "      <td>0.823529</td>\n",
       "      <td>0.882353</td>\n",
       "      <td>0.6250</td>\n",
       "      <td>0.748529</td>\n",
       "      <td>0.099349</td>\n",
       "      <td>1</td>\n",
       "    </tr>\n",
       "    <tr>\n",
       "      <th>3</th>\n",
       "      <td>0.002037</td>\n",
       "      <td>0.004074</td>\n",
       "      <td>0.000000</td>\n",
       "      <td>0.000000</td>\n",
       "      <td>5</td>\n",
       "      <td>{'max_depth': 5}</td>\n",
       "      <td>0.705882</td>\n",
       "      <td>0.647059</td>\n",
       "      <td>0.823529</td>\n",
       "      <td>0.823529</td>\n",
       "      <td>0.5625</td>\n",
       "      <td>0.712500</td>\n",
       "      <td>0.101471</td>\n",
       "      <td>2</td>\n",
       "    </tr>\n",
       "    <tr>\n",
       "      <th>4</th>\n",
       "      <td>0.001006</td>\n",
       "      <td>0.002011</td>\n",
       "      <td>0.000000</td>\n",
       "      <td>0.000000</td>\n",
       "      <td>10</td>\n",
       "      <td>{'max_depth': 10}</td>\n",
       "      <td>0.529412</td>\n",
       "      <td>0.647059</td>\n",
       "      <td>0.764706</td>\n",
       "      <td>0.764706</td>\n",
       "      <td>0.6250</td>\n",
       "      <td>0.666176</td>\n",
       "      <td>0.089646</td>\n",
       "      <td>4</td>\n",
       "    </tr>\n",
       "  </tbody>\n",
       "</table>\n",
       "</div>"
      ],
      "text/plain": [
       "   mean_fit_time  std_fit_time  mean_score_time  std_score_time  \\\n",
       "0       0.001200      0.000748         0.001749        0.001499   \n",
       "1       0.001800      0.000749         0.001399        0.000491   \n",
       "2       0.002122      0.003504         0.000000        0.000000   \n",
       "3       0.002037      0.004074         0.000000        0.000000   \n",
       "4       0.001006      0.002011         0.000000        0.000000   \n",
       "\n",
       "  param_max_depth               params  split0_test_score  split1_test_score  \\\n",
       "0            None  {'max_depth': None}           0.588235           0.647059   \n",
       "1               1     {'max_depth': 1}           0.647059           0.705882   \n",
       "2               2     {'max_depth': 2}           0.764706           0.647059   \n",
       "3               5     {'max_depth': 5}           0.705882           0.647059   \n",
       "4              10    {'max_depth': 10}           0.529412           0.647059   \n",
       "\n",
       "   split2_test_score  split3_test_score  split4_test_score  mean_test_score  \\\n",
       "0           0.764706           0.764706             0.6250         0.677941   \n",
       "1           0.705882           0.647059             0.5625         0.653676   \n",
       "2           0.823529           0.882353             0.6250         0.748529   \n",
       "3           0.823529           0.823529             0.5625         0.712500   \n",
       "4           0.764706           0.764706             0.6250         0.666176   \n",
       "\n",
       "   std_test_score  rank_test_score  \n",
       "0        0.073294                3  \n",
       "1        0.052634                5  \n",
       "2        0.099349                1  \n",
       "3        0.101471                2  \n",
       "4        0.089646                4  "
      ]
     },
     "execution_count": 15,
     "metadata": {},
     "output_type": "execute_result"
    }
   ],
   "source": [
    "print(clf.best_params_)\n",
    "pd.DataFrame(clf.cv_results_)"
   ]
  },
  {
   "cell_type": "markdown",
   "id": "2faad301",
   "metadata": {},
   "source": [
    "## Choosing the best model through validation set"
   ]
  },
  {
   "cell_type": "code",
   "execution_count": 16,
   "id": "b9aff790",
   "metadata": {},
   "outputs": [
    {
     "data": {
      "text/plain": [
       "<sklearn.metrics._plot.confusion_matrix.ConfusionMatrixDisplay at 0x164cb315460>"
      ]
     },
     "execution_count": 16,
     "metadata": {},
     "output_type": "execute_result"
    },
    {
     "data": {
      "image/png": "[encoded data removed]",
      "text/plain": [
       "<Figure size 576x504 with 4 Axes>"
      ]
     },
     "metadata": {
      "needs_background": "light"
     },
     "output_type": "display_data"
    }
   ],
   "source": [
    "# These names were obtained above\n",
    "target_names_iris = ['setosa', 'versicolor', 'virginica']\n",
    "\n",
    "cm1 = confusion_matrix(y_val, log_reg_pred)\n",
    "cm2 = confusion_matrix(y_val, clf_pred)\n",
    "\n",
    "fig, axs = plt.subplots(1, 2, figsize = (8, 7), layout='constrained')\n",
    "ConfusionMatrixDisplay(cm1, display_labels = target_names_iris).plot(ax=axs[0])\n",
    "ConfusionMatrixDisplay(cm2, display_labels = target_names_iris).plot(ax=axs[1])"
   ]
  },
  {
   "cell_type": "code",
   "execution_count": 17,
   "id": "3514314b",
   "metadata": {},
   "outputs": [
    {
     "name": "stdout",
     "output_type": "stream",
     "text": [
      "              precision    recall  f1-score   support\n",
      "\n",
      "      setosa       0.91      1.00      0.95        10\n",
      "  versicolor       0.53      0.67      0.59        12\n",
      "   virginica       0.70      0.50      0.58        14\n",
      "\n",
      "    accuracy                           0.69        36\n",
      "   macro avg       0.71      0.72      0.71        36\n",
      "weighted avg       0.70      0.69      0.69        36\n",
      "\n"
     ]
    }
   ],
   "source": [
    "print(classification_report(y_val, log_reg_pred, target_names=target_names_iris))"
   ]
  },
  {
   "cell_type": "code",
   "execution_count": 18,
   "id": "d7d1fc18",
   "metadata": {},
   "outputs": [
    {
     "name": "stdout",
     "output_type": "stream",
     "text": [
      "              precision    recall  f1-score   support\n",
      "\n",
      "      setosa       0.69      0.90      0.78        10\n",
      "  versicolor       0.37      0.58      0.45        12\n",
      "   virginica       0.75      0.21      0.33        14\n",
      "\n",
      "    accuracy                           0.53        36\n",
      "   macro avg       0.60      0.57      0.52        36\n",
      "weighted avg       0.61      0.53      0.50        36\n",
      "\n"
     ]
    }
   ],
   "source": [
    "print(classification_report(y_val, clf_pred, target_names=target_names_iris))"
   ]
  },
  {
   "cell_type": "markdown",
   "id": "e3b69af1",
   "metadata": {},
   "source": [
    "# Evaluating chosen model through test set\n",
    "\n",
    "The results are extremely good since this is a \"toy dataset\". In reality we do not expect numbers that are as perfect as those below. "
   ]
  },
  {
   "cell_type": "code",
   "execution_count": 19,
   "id": "180a5d36",
   "metadata": {},
   "outputs": [],
   "source": [
    "# Now we retrain our model on the train + validation data. \n",
    "log_reg_final = LogisticRegression().fit(X_train_full, y_train_full)\n",
    "pred_test = log_reg_final.predict(X_test)"
   ]
  },
  {
   "cell_type": "code",
   "execution_count": 20,
   "id": "c9cd912d",
   "metadata": {},
   "outputs": [
    {
     "data": {
      "text/plain": [
       "<sklearn.metrics._plot.confusion_matrix.ConfusionMatrixDisplay at 0x164cb58a5e0>"
      ]
     },
     "execution_count": 20,
     "metadata": {},
     "output_type": "execute_result"
    },
    {
     "data": {
      "image/png": "[encoded data removed]",
      "text/plain": [
       "<Figure size 432x288 with 2 Axes>"
      ]
     },
     "metadata": {
      "needs_background": "light"
     },
     "output_type": "display_data"
    }
   ],
   "source": [
    "cm_test = confusion_matrix(y_test, pred_test)\n",
    "ConfusionMatrixDisplay(cm_test).plot()"
   ]
  },
  {
   "cell_type": "code",
   "execution_count": 21,
   "id": "48e3efae",
   "metadata": {},
   "outputs": [
    {
     "name": "stdout",
     "output_type": "stream",
     "text": [
      "              precision    recall  f1-score   support\n",
      "\n",
      "      setosa       1.00      1.00      1.00         8\n",
      "  versicolor       0.92      0.92      0.92        12\n",
      "   virginica       0.90      0.90      0.90        10\n",
      "\n",
      "    accuracy                           0.93        30\n",
      "   macro avg       0.94      0.94      0.94        30\n",
      "weighted avg       0.93      0.93      0.93        30\n",
      "\n"
     ]
    }
   ],
   "source": [
    "print(classification_report(y_test, pred_test, target_names=target_names_iris))"
   ]
  },
  {
   "cell_type": "code",
   "execution_count": null,
   "id": "97538b0a",
   "metadata": {},
   "outputs": [],
   "source": []
  }
 ],
 "metadata": {
  "kernelspec": {
   "display_name": "Python 3 (ipykernel)",
   "language": "python",
   "name": "python3"
  },
  "language_info": {
   "codemirror_mode": {
    "name": "ipython",
    "version": 3
   },
   "file_extension": ".py",
   "mimetype": "text/x-python",
   "name": "python",
   "nbconvert_exporter": "python",
   "pygments_lexer": "ipython3",
   "version": "3.8.0"
  }
 },
 "nbformat": 4,
 "nbformat_minor": 5
}
