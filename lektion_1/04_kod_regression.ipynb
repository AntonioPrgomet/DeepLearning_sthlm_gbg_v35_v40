{
 "cells": [
  {
   "cell_type": "markdown",
   "id": "5157a98d",
   "metadata": {},
   "source": [
    "# Regressionproblem - Example\n",
    "In this script we demonstrate how a Machine Learning workflow can look like when you use cross validation on the train set to choose model and then evaluate the chosen models generalization error on the test set. "
   ]
  },
  {
   "cell_type": "code",
   "execution_count": 1,
   "id": "336ea8e7",
   "metadata": {},
   "outputs": [],
   "source": [
    "import numpy as np\n",
    "import pandas as pd\n",
    "import matplotlib.pyplot as plt \n",
    "import seaborn as sns\n",
    "\n",
    "from sklearn.datasets import load_diabetes\n",
    "\n",
    "from sklearn.model_selection import train_test_split\n",
    "\n",
    "from sklearn.linear_model import LinearRegression\n",
    "from sklearn.linear_model import Lasso\n",
    "from sklearn.ensemble import RandomForestRegressor\n",
    "\n",
    "from sklearn.metrics import mean_squared_error\n",
    "from sklearn.model_selection import GridSearchCV\n",
    "from sklearn.model_selection import cross_validate"
   ]
  },
  {
   "cell_type": "markdown",
   "id": "0615ce8e",
   "metadata": {},
   "source": [
    "# Loading Data"
   ]
  },
  {
   "cell_type": "code",
   "execution_count": 2,
   "id": "67b08db1",
   "metadata": {},
   "outputs": [],
   "source": [
    "# This code is merely executed to see the description of the data in a smooth way\n",
    "data = load_diabetes()"
   ]
  },
  {
   "cell_type": "code",
   "execution_count": 3,
   "id": "b9f14d56",
   "metadata": {},
   "outputs": [
    {
     "name": "stdout",
     "output_type": "stream",
     "text": [
      ".. _diabetes_dataset:\n",
      "\n",
      "Diabetes dataset\n",
      "----------------\n",
      "\n",
      "Ten baseline variables, age, sex, body mass index, average blood\n",
      "pressure, and six blood serum measurements were obtained for each of n =\n",
      "442 diabetes patients, as well as the response of interest, a\n",
      "quantitative measure of disease progression one year after baseline.\n",
      "\n",
      "**Data Set Characteristics:**\n",
      "\n",
      "  :Number of Instances: 442\n",
      "\n",
      "  :Number of Attributes: First 10 columns are numeric predictive values\n",
      "\n",
      "  :Target: Column 11 is a quantitative measure of disease progression one year after baseline\n",
      "\n",
      "  :Attribute Information:\n",
      "      - age     age in years\n",
      "      - sex\n",
      "      - bmi     body mass index\n",
      "      - bp      average blood pressure\n",
      "      - s1      tc, total serum cholesterol\n",
      "      - s2      ldl, low-density lipoproteins\n",
      "      - s3      hdl, high-density lipoproteins\n",
      "      - s4      tch, total cholesterol / HDL\n",
      "      - s5      ltg, possibly log of serum triglycerides level\n",
      "      - s6      glu, blood sugar level\n",
      "\n",
      "Note: Each of these 10 feature variables have been mean centered and scaled by the standard deviation times `n_samples` (i.e. the sum of squares of each column totals 1).\n",
      "\n",
      "Source URL:\n",
      "https://www4.stat.ncsu.edu/~boos/var.select/diabetes.html\n",
      "\n",
      "For more information see:\n",
      "Bradley Efron, Trevor Hastie, Iain Johnstone and Robert Tibshirani (2004) \"Least Angle Regression,\" Annals of Statistics (with discussion), 407-499.\n",
      "(https://web.stanford.edu/~hastie/Papers/LARS/LeastAngle_2002.pdf)\n"
     ]
    }
   ],
   "source": [
    "print(data.DESCR)"
   ]
  },
  {
   "cell_type": "markdown",
   "id": "1c2aebf2",
   "metadata": {},
   "source": [
    "## Storing/Loading the data in the way it will be used"
   ]
  },
  {
   "cell_type": "code",
   "execution_count": 4,
   "id": "1923ad1b",
   "metadata": {},
   "outputs": [],
   "source": [
    "X, y = load_diabetes(return_X_y=True, as_frame=True)"
   ]
  },
  {
   "cell_type": "code",
   "execution_count": 5,
   "id": "e0c71590",
   "metadata": {},
   "outputs": [
    {
     "name": "stdout",
     "output_type": "stream",
     "text": [
      "<class 'pandas.core.frame.DataFrame'>\n",
      "RangeIndex: 442 entries, 0 to 441\n",
      "Data columns (total 10 columns):\n",
      " #   Column  Non-Null Count  Dtype  \n",
      "---  ------  --------------  -----  \n",
      " 0   age     442 non-null    float64\n",
      " 1   sex     442 non-null    float64\n",
      " 2   bmi     442 non-null    float64\n",
      " 3   bp      442 non-null    float64\n",
      " 4   s1      442 non-null    float64\n",
      " 5   s2      442 non-null    float64\n",
      " 6   s3      442 non-null    float64\n",
      " 7   s4      442 non-null    float64\n",
      " 8   s5      442 non-null    float64\n",
      " 9   s6      442 non-null    float64\n",
      "dtypes: float64(10)\n",
      "memory usage: 34.7 KB\n",
      "None\n",
      "\n",
      "<class 'pandas.core.series.Series'>\n",
      "RangeIndex: 442 entries, 0 to 441\n",
      "Series name: target\n",
      "Non-Null Count  Dtype  \n",
      "--------------  -----  \n",
      "442 non-null    float64\n",
      "dtypes: float64(1)\n",
      "memory usage: 3.6 KB\n",
      "None\n"
     ]
    }
   ],
   "source": [
    "print(X.info())\n",
    "print()\n",
    "print(y.info())"
   ]
  },
  {
   "cell_type": "code",
   "execution_count": 6,
   "id": "5b2a55d5",
   "metadata": {},
   "outputs": [],
   "source": [
    "X_train, X_test, y_train, y_test = train_test_split(X, y, test_size=0.2, random_state=42)"
   ]
  },
  {
   "cell_type": "markdown",
   "id": "c2857b5c",
   "metadata": {},
   "source": [
    "# EDA"
   ]
  },
  {
   "cell_type": "code",
   "execution_count": 7,
   "id": "22883505",
   "metadata": {},
   "outputs": [
    {
     "data": {
      "text/plain": [
       "<AxesSubplot:>"
      ]
     },
     "execution_count": 7,
     "metadata": {},
     "output_type": "execute_result"
    },
    {
     "data": {
      "image/png": "[encoded data removed]",
      "text/plain": [
       "<Figure size 432x288 with 2 Axes>"
      ]
     },
     "metadata": {
      "needs_background": "light"
     },
     "output_type": "display_data"
    }
   ],
   "source": [
    "# Placing all the data in \"df\" so I can make a nice correlation plot\n",
    "df = X.copy()\n",
    "df['target'] = y\n",
    "\n",
    "correlation_matrix = df.corr()\n",
    "sns.heatmap(correlation_matrix, annot=True)"
   ]
  },
  {
   "cell_type": "code",
   "execution_count": 8,
   "id": "e8035b0c",
   "metadata": {},
   "outputs": [
    {
     "data": {
      "text/plain": [
       "Text(0, 0.5, 'Disease Progression')"
      ]
     },
     "execution_count": 8,
     "metadata": {},
     "output_type": "execute_result"
    },
    {
     "data": {
      "image/png": "[encoded data removed]",
      "text/plain": [
       "<Figure size 432x288 with 1 Axes>"
      ]
     },
     "metadata": {
      "needs_background": "light"
     },
     "output_type": "display_data"
    }
   ],
   "source": [
    "# Intuitive (and from the correlation plot), therese should be a positive relationship \n",
    "# between the target (disease progression) and BMI.\n",
    "plt.scatter(df[\"bmi\"], df[\"target\"])\n",
    "plt.xlabel(\"bmi\")\n",
    "plt.ylabel(\"Disease Progression\")"
   ]
  },
  {
   "cell_type": "code",
   "execution_count": 9,
   "id": "6ae61a61",
   "metadata": {},
   "outputs": [
    {
     "data": {
      "text/html": [
       "<div>\n",
       "<style scoped>\n",
       "    .dataframe tbody tr th:only-of-type {\n",
       "        vertical-align: middle;\n",
       "    }\n",
       "\n",
       "    .dataframe tbody tr th {\n",
       "        vertical-align: top;\n",
       "    }\n",
       "\n",
       "    .dataframe thead th {\n",
       "        text-align: right;\n",
       "    }\n",
       "</style>\n",
       "<table border=\"1\" class=\"dataframe\">\n",
       "  <thead>\n",
       "    <tr style=\"text-align: right;\">\n",
       "      <th></th>\n",
       "      <th>age</th>\n",
       "      <th>sex</th>\n",
       "      <th>bmi</th>\n",
       "      <th>bp</th>\n",
       "      <th>s1</th>\n",
       "      <th>s2</th>\n",
       "      <th>s3</th>\n",
       "      <th>s4</th>\n",
       "      <th>s5</th>\n",
       "      <th>s6</th>\n",
       "    </tr>\n",
       "  </thead>\n",
       "  <tbody>\n",
       "    <tr>\n",
       "      <th>17</th>\n",
       "      <td>0.070769</td>\n",
       "      <td>0.050680</td>\n",
       "      <td>0.012117</td>\n",
       "      <td>0.056301</td>\n",
       "      <td>0.034206</td>\n",
       "      <td>0.049416</td>\n",
       "      <td>-0.039719</td>\n",
       "      <td>0.034309</td>\n",
       "      <td>0.027368</td>\n",
       "      <td>-0.001078</td>\n",
       "    </tr>\n",
       "    <tr>\n",
       "      <th>66</th>\n",
       "      <td>-0.009147</td>\n",
       "      <td>0.050680</td>\n",
       "      <td>-0.018062</td>\n",
       "      <td>-0.033214</td>\n",
       "      <td>-0.020832</td>\n",
       "      <td>0.012152</td>\n",
       "      <td>-0.072854</td>\n",
       "      <td>0.071210</td>\n",
       "      <td>0.000271</td>\n",
       "      <td>0.019633</td>\n",
       "    </tr>\n",
       "    <tr>\n",
       "      <th>137</th>\n",
       "      <td>0.005383</td>\n",
       "      <td>-0.044642</td>\n",
       "      <td>0.049840</td>\n",
       "      <td>0.097616</td>\n",
       "      <td>-0.015328</td>\n",
       "      <td>-0.016345</td>\n",
       "      <td>-0.006584</td>\n",
       "      <td>-0.002592</td>\n",
       "      <td>0.017037</td>\n",
       "      <td>-0.013504</td>\n",
       "    </tr>\n",
       "    <tr>\n",
       "      <th>245</th>\n",
       "      <td>-0.027310</td>\n",
       "      <td>-0.044642</td>\n",
       "      <td>-0.035307</td>\n",
       "      <td>-0.029771</td>\n",
       "      <td>-0.056607</td>\n",
       "      <td>-0.058620</td>\n",
       "      <td>0.030232</td>\n",
       "      <td>-0.039493</td>\n",
       "      <td>-0.049868</td>\n",
       "      <td>-0.129483</td>\n",
       "    </tr>\n",
       "    <tr>\n",
       "      <th>31</th>\n",
       "      <td>-0.023677</td>\n",
       "      <td>-0.044642</td>\n",
       "      <td>-0.065486</td>\n",
       "      <td>-0.081414</td>\n",
       "      <td>-0.038720</td>\n",
       "      <td>-0.053610</td>\n",
       "      <td>0.059685</td>\n",
       "      <td>-0.076395</td>\n",
       "      <td>-0.037128</td>\n",
       "      <td>-0.042499</td>\n",
       "    </tr>\n",
       "  </tbody>\n",
       "</table>\n",
       "</div>"
      ],
      "text/plain": [
       "          age       sex       bmi        bp        s1        s2        s3  \\\n",
       "17   0.070769  0.050680  0.012117  0.056301  0.034206  0.049416 -0.039719   \n",
       "66  -0.009147  0.050680 -0.018062 -0.033214 -0.020832  0.012152 -0.072854   \n",
       "137  0.005383 -0.044642  0.049840  0.097616 -0.015328 -0.016345 -0.006584   \n",
       "245 -0.027310 -0.044642 -0.035307 -0.029771 -0.056607 -0.058620  0.030232   \n",
       "31  -0.023677 -0.044642 -0.065486 -0.081414 -0.038720 -0.053610  0.059685   \n",
       "\n",
       "           s4        s5        s6  \n",
       "17   0.034309  0.027368 -0.001078  \n",
       "66   0.071210  0.000271  0.019633  \n",
       "137 -0.002592  0.017037 -0.013504  \n",
       "245 -0.039493 -0.049868 -0.129483  \n",
       "31  -0.076395 -0.037128 -0.042499  "
      ]
     },
     "execution_count": 9,
     "metadata": {},
     "output_type": "execute_result"
    }
   ],
   "source": [
    "X_train.head()"
   ]
  },
  {
   "cell_type": "code",
   "execution_count": 10,
   "id": "2140b9ea",
   "metadata": {},
   "outputs": [
    {
     "data": {
      "text/html": [
       "<div>\n",
       "<style scoped>\n",
       "    .dataframe tbody tr th:only-of-type {\n",
       "        vertical-align: middle;\n",
       "    }\n",
       "\n",
       "    .dataframe tbody tr th {\n",
       "        vertical-align: top;\n",
       "    }\n",
       "\n",
       "    .dataframe thead th {\n",
       "        text-align: right;\n",
       "    }\n",
       "</style>\n",
       "<table border=\"1\" class=\"dataframe\">\n",
       "  <thead>\n",
       "    <tr style=\"text-align: right;\">\n",
       "      <th></th>\n",
       "      <th>age</th>\n",
       "      <th>sex</th>\n",
       "      <th>bmi</th>\n",
       "      <th>bp</th>\n",
       "      <th>s1</th>\n",
       "      <th>s2</th>\n",
       "      <th>s3</th>\n",
       "      <th>s4</th>\n",
       "      <th>s5</th>\n",
       "      <th>s6</th>\n",
       "    </tr>\n",
       "  </thead>\n",
       "  <tbody>\n",
       "    <tr>\n",
       "      <th>count</th>\n",
       "      <td>353.000000</td>\n",
       "      <td>353.000000</td>\n",
       "      <td>353.000000</td>\n",
       "      <td>353.000000</td>\n",
       "      <td>353.000000</td>\n",
       "      <td>353.000000</td>\n",
       "      <td>353.000000</td>\n",
       "      <td>353.000000</td>\n",
       "      <td>353.000000</td>\n",
       "      <td>353.000000</td>\n",
       "    </tr>\n",
       "    <tr>\n",
       "      <th>mean</th>\n",
       "      <td>0.001442</td>\n",
       "      <td>0.000184</td>\n",
       "      <td>0.001736</td>\n",
       "      <td>0.001179</td>\n",
       "      <td>-0.000556</td>\n",
       "      <td>-0.000806</td>\n",
       "      <td>-0.000989</td>\n",
       "      <td>0.000377</td>\n",
       "      <td>0.001216</td>\n",
       "      <td>0.001891</td>\n",
       "    </tr>\n",
       "    <tr>\n",
       "      <th>std</th>\n",
       "      <td>0.046334</td>\n",
       "      <td>0.047644</td>\n",
       "      <td>0.047275</td>\n",
       "      <td>0.048469</td>\n",
       "      <td>0.047786</td>\n",
       "      <td>0.047631</td>\n",
       "      <td>0.047044</td>\n",
       "      <td>0.047790</td>\n",
       "      <td>0.047828</td>\n",
       "      <td>0.048380</td>\n",
       "    </tr>\n",
       "    <tr>\n",
       "      <th>min</th>\n",
       "      <td>-0.107226</td>\n",
       "      <td>-0.044642</td>\n",
       "      <td>-0.089197</td>\n",
       "      <td>-0.112400</td>\n",
       "      <td>-0.108893</td>\n",
       "      <td>-0.115613</td>\n",
       "      <td>-0.102307</td>\n",
       "      <td>-0.076395</td>\n",
       "      <td>-0.126097</td>\n",
       "      <td>-0.137767</td>\n",
       "    </tr>\n",
       "    <tr>\n",
       "      <th>25%</th>\n",
       "      <td>-0.030942</td>\n",
       "      <td>-0.044642</td>\n",
       "      <td>-0.032073</td>\n",
       "      <td>-0.036656</td>\n",
       "      <td>-0.035968</td>\n",
       "      <td>-0.032629</td>\n",
       "      <td>-0.032356</td>\n",
       "      <td>-0.039493</td>\n",
       "      <td>-0.033249</td>\n",
       "      <td>-0.030072</td>\n",
       "    </tr>\n",
       "    <tr>\n",
       "      <th>50%</th>\n",
       "      <td>0.009016</td>\n",
       "      <td>-0.044642</td>\n",
       "      <td>-0.005128</td>\n",
       "      <td>-0.005671</td>\n",
       "      <td>-0.004321</td>\n",
       "      <td>-0.004132</td>\n",
       "      <td>-0.006584</td>\n",
       "      <td>-0.002592</td>\n",
       "      <td>-0.000609</td>\n",
       "      <td>0.003064</td>\n",
       "    </tr>\n",
       "    <tr>\n",
       "      <th>75%</th>\n",
       "      <td>0.038076</td>\n",
       "      <td>0.050680</td>\n",
       "      <td>0.032595</td>\n",
       "      <td>0.035644</td>\n",
       "      <td>0.025950</td>\n",
       "      <td>0.027183</td>\n",
       "      <td>0.026550</td>\n",
       "      <td>0.034309</td>\n",
       "      <td>0.033657</td>\n",
       "      <td>0.032059</td>\n",
       "    </tr>\n",
       "    <tr>\n",
       "      <th>max</th>\n",
       "      <td>0.110727</td>\n",
       "      <td>0.050680</td>\n",
       "      <td>0.160855</td>\n",
       "      <td>0.132044</td>\n",
       "      <td>0.153914</td>\n",
       "      <td>0.198788</td>\n",
       "      <td>0.181179</td>\n",
       "      <td>0.185234</td>\n",
       "      <td>0.133599</td>\n",
       "      <td>0.135612</td>\n",
       "    </tr>\n",
       "  </tbody>\n",
       "</table>\n",
       "</div>"
      ],
      "text/plain": [
       "              age         sex         bmi          bp          s1          s2  \\\n",
       "count  353.000000  353.000000  353.000000  353.000000  353.000000  353.000000   \n",
       "mean     0.001442    0.000184    0.001736    0.001179   -0.000556   -0.000806   \n",
       "std      0.046334    0.047644    0.047275    0.048469    0.047786    0.047631   \n",
       "min     -0.107226   -0.044642   -0.089197   -0.112400   -0.108893   -0.115613   \n",
       "25%     -0.030942   -0.044642   -0.032073   -0.036656   -0.035968   -0.032629   \n",
       "50%      0.009016   -0.044642   -0.005128   -0.005671   -0.004321   -0.004132   \n",
       "75%      0.038076    0.050680    0.032595    0.035644    0.025950    0.027183   \n",
       "max      0.110727    0.050680    0.160855    0.132044    0.153914    0.198788   \n",
       "\n",
       "               s3          s4          s5          s6  \n",
       "count  353.000000  353.000000  353.000000  353.000000  \n",
       "mean    -0.000989    0.000377    0.001216    0.001891  \n",
       "std      0.047044    0.047790    0.047828    0.048380  \n",
       "min     -0.102307   -0.076395   -0.126097   -0.137767  \n",
       "25%     -0.032356   -0.039493   -0.033249   -0.030072  \n",
       "50%     -0.006584   -0.002592   -0.000609    0.003064  \n",
       "75%      0.026550    0.034309    0.033657    0.032059  \n",
       "max      0.181179    0.185234    0.133599    0.135612  "
      ]
     },
     "execution_count": 10,
     "metadata": {},
     "output_type": "execute_result"
    }
   ],
   "source": [
    "X_train.describe()"
   ]
  },
  {
   "cell_type": "code",
   "execution_count": 11,
   "id": "0dcd7d66",
   "metadata": {},
   "outputs": [
    {
     "data": {
      "text/plain": [
       "17     144.0\n",
       "66     150.0\n",
       "137    280.0\n",
       "245    125.0\n",
       "31      59.0\n",
       "Name: target, dtype: float64"
      ]
     },
     "execution_count": 11,
     "metadata": {},
     "output_type": "execute_result"
    }
   ],
   "source": [
    "y_train.head()"
   ]
  },
  {
   "cell_type": "code",
   "execution_count": 12,
   "id": "4a06b303",
   "metadata": {},
   "outputs": [
    {
     "data": {
      "text/plain": [
       "count    353.000000\n",
       "mean     153.736544\n",
       "std       78.061902\n",
       "min       25.000000\n",
       "25%       86.000000\n",
       "50%      142.000000\n",
       "75%      214.000000\n",
       "max      346.000000\n",
       "Name: target, dtype: float64"
      ]
     },
     "execution_count": 12,
     "metadata": {},
     "output_type": "execute_result"
    }
   ],
   "source": [
    "y_train.describe()"
   ]
  },
  {
   "cell_type": "markdown",
   "id": "5694a894",
   "metadata": {},
   "source": [
    "# Creating 3 different models and choosing the best one with Cross Validation. "
   ]
  },
  {
   "cell_type": "code",
   "execution_count": 13,
   "id": "3c102d98",
   "metadata": {},
   "outputs": [
    {
     "name": "stdout",
     "output_type": "stream",
     "text": [
      "RMSE for each iteration: [53.31290639 53.16281014 59.79748717]\n",
      "RMSE: 55.510629137383226\n"
     ]
    }
   ],
   "source": [
    "lin_reg = LinearRegression()\n",
    "\n",
    "# In Scikit-learn, higher score is better. Since a low MSE is better than a high,\n",
    "# we use negative mean squared error to respect the rule \"higher is better\".\n",
    "scores_lr = cross_validate(lin_reg, X_train, y_train, cv=3, scoring = 'neg_mean_squared_error')[\"test_score\"]\n",
    "print('RMSE for each iteration:', np.sqrt(-scores_lr))\n",
    "print('RMSE:', np.sqrt(np.mean(-scores_lr)))"
   ]
  },
  {
   "cell_type": "code",
   "execution_count": 14,
   "id": "268cbd74",
   "metadata": {},
   "outputs": [
    {
     "name": "stdout",
     "output_type": "stream",
     "text": [
      "{'alpha': 0.01}\n",
      "RMSE for each iteration: [53.64040689 53.57636726 59.49686417]\n",
      "RMSE: 55.64050450934434\n"
     ]
    }
   ],
   "source": [
    "lasso = Lasso()\n",
    "hyper_param_lasso = {'alpha':(0.01, 1, 2, 5, 10)}\n",
    "lasso_reg = GridSearchCV(lasso, hyper_param_lasso, cv = 5)\n",
    "# Fit the gridsearch to use the best hyperparameter in our cross validation\n",
    "lasso_reg.fit(X_train, y_train)\n",
    "\n",
    "print(lasso_reg.best_params_)\n",
    "\n",
    "scores_lasso = cross_validate(lasso_reg, X_train, y_train, cv=3, scoring = 'neg_mean_squared_error')[\"test_score\"]\n",
    "print('RMSE for each iteration:', np.sqrt(-scores_lasso))\n",
    "print('RMSE:', np.sqrt(np.mean(-scores_lasso)))"
   ]
  },
  {
   "cell_type": "code",
   "execution_count": 15,
   "id": "46101993",
   "metadata": {},
   "outputs": [
    {
     "name": "stdout",
     "output_type": "stream",
     "text": [
      "{'max_depth': 10, 'n_estimators': 100}\n",
      "RMSE for each iteration: [56.31349282 62.80353214 58.80571525]\n",
      "RMSE: 59.3677950558162\n"
     ]
    }
   ],
   "source": [
    "forest = RandomForestRegressor()\n",
    "param_grid = { \n",
    "    'n_estimators': [10, 100, 120],\n",
    "    'max_depth' : [None, 10],\n",
    "}\n",
    "forest_reg = GridSearchCV(forest, param_grid=param_grid, cv= 5)\n",
    "# Fit the gridsearch to use the best hyperparameter in our cross validation\n",
    "forest_reg.fit(X_train, y_train)\n",
    "\n",
    "print(forest_reg.best_params_)\n",
    "\n",
    "scores_forest = cross_validate(forest_reg, X_train, y_train, cv=3, scoring = 'neg_mean_squared_error')[\"test_score\"]\n",
    "print('RMSE for each iteration:', np.sqrt(-scores_forest))\n",
    "print('RMSE:', np.sqrt(np.mean(-scores_forest)))"
   ]
  },
  {
   "cell_type": "code",
   "execution_count": null,
   "id": "568ce772",
   "metadata": {},
   "outputs": [],
   "source": []
  },
  {
   "cell_type": "markdown",
   "id": "c3fd7f3d",
   "metadata": {},
   "source": [
    "The Linear Regression modell had lowest RMSE and hence we choose that one as our model. "
   ]
  },
  {
   "cell_type": "code",
   "execution_count": 16,
   "id": "973a2915",
   "metadata": {},
   "outputs": [
    {
     "data": {
      "text/plain": [
       "LinearRegression()"
      ]
     },
     "execution_count": 16,
     "metadata": {},
     "output_type": "execute_result"
    }
   ],
   "source": [
    "lin_reg.fit(X_train, y_train)"
   ]
  },
  {
   "cell_type": "markdown",
   "id": "43b03e3e",
   "metadata": {},
   "source": [
    "# Evaluating the chosen model on the test set"
   ]
  },
  {
   "cell_type": "code",
   "execution_count": 17,
   "id": "7006959b",
   "metadata": {},
   "outputs": [
    {
     "name": "stdout",
     "output_type": "stream",
     "text": [
      "145.77528089887642\n"
     ]
    }
   ],
   "source": [
    "# Calculating the mean value of the y_test data. We will put this in relation to the RMSE that we soon calculate.\n",
    "print(np.mean(y_test))"
   ]
  },
  {
   "cell_type": "code",
   "execution_count": 18,
   "id": "764e9ece",
   "metadata": {
    "scrolled": true
   },
   "outputs": [
    {
     "data": {
      "text/plain": [
       "<AxesSubplot:>"
      ]
     },
     "execution_count": 18,
     "metadata": {},
     "output_type": "execute_result"
    },
    {
     "data": {
      "image/png": "[encoded data removed]",
      "text/plain": [
       "<Figure size 432x288 with 1 Axes>"
      ]
     },
     "metadata": {
      "needs_background": "light"
     },
     "output_type": "display_data"
    }
   ],
   "source": [
    "y_test.plot.box()"
   ]
  },
  {
   "cell_type": "code",
   "execution_count": 19,
   "id": "e0b35221",
   "metadata": {},
   "outputs": [
    {
     "name": "stdout",
     "output_type": "stream",
     "text": [
      "53.853256984914395\n"
     ]
    }
   ],
   "source": [
    "y_test_pred_lr = lin_reg.predict(X_test)\n",
    "RMSE_test_data = mean_squared_error(y_test, y_test_pred_lr, squared = False)\n",
    "print(RMSE_test_data)"
   ]
  },
  {
   "cell_type": "code",
   "execution_count": 20,
   "id": "d379e7bd",
   "metadata": {},
   "outputs": [
    {
     "data": {
      "text/plain": [
       "0.36942653550619553"
      ]
     },
     "execution_count": 20,
     "metadata": {},
     "output_type": "execute_result"
    }
   ],
   "source": [
    "# Our error on the test data is about 37% in relation to the mean value of the test data. \n",
    "(RMSE_test_data)/(np.mean(y_test))"
   ]
  }
 ],
 "metadata": {
  "kernelspec": {
   "display_name": "Python 3 (ipykernel)",
   "language": "python",
   "name": "python3"
  },
  "language_info": {
   "codemirror_mode": {
    "name": "ipython",
    "version": 3
   },
   "file_extension": ".py",
   "mimetype": "text/x-python",
   "name": "python",
   "nbconvert_exporter": "python",
   "pygments_lexer": "ipython3",
   "version": "3.8.0"
  }
 },
 "nbformat": 4,
 "nbformat_minor": 5
}
