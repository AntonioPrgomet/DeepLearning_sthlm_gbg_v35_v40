{
 "cells": [
  {
   "cell_type": "markdown",
   "id": "8d31a68f",
   "metadata": {},
   "source": [
    "# Categorical Data\n",
    "\n",
    "Read this link before looking at the code: https://machinelearningmastery.com/one-hot-encoding-for-categorical-data/ \n",
    "\n",
    "In this code demonstration, we look at categorical data. \n",
    "\n",
    "In general, when applying machine learning models we need data to be represented numerically. \n",
    "To transform categorical data to numerical, we can: \n",
    "\n",
    "1. Use Ordinal Encoding, i.e. there is a ordering in the data. \n",
    "2. One-hot-encoding, i.e. there is no ordering in the data. \n",
    "3. Dummy variable encoding, this is like one-hot-encoding but it represents C categories with C-1 binary variables. Dummy variable encoding should be used if you use a Linear Regression model. "
   ]
  },
  {
   "cell_type": "code",
   "execution_count": null,
   "id": "074b3ac8",
   "metadata": {},
   "outputs": [],
   "source": []
  },
  {
   "cell_type": "code",
   "execution_count": 1,
   "id": "7be2ccac",
   "metadata": {},
   "outputs": [],
   "source": [
    "from numpy import asarray\n",
    "\n",
    "from sklearn.preprocessing import OrdinalEncoder\n",
    "from sklearn.preprocessing import OneHotEncoder"
   ]
  },
  {
   "cell_type": "markdown",
   "id": "927fb67e",
   "metadata": {},
   "source": [
    "## Ordinal encoding"
   ]
  },
  {
   "cell_type": "code",
   "execution_count": 2,
   "id": "f379359d",
   "metadata": {},
   "outputs": [
    {
     "name": "stdout",
     "output_type": "stream",
     "text": [
      "[['red']\n",
      " ['green']\n",
      " ['blue']]\n"
     ]
    }
   ],
   "source": [
    "data_ordinal = asarray([['red'], ['green'], ['blue']])\n",
    "print(data_ordinal)"
   ]
  },
  {
   "cell_type": "code",
   "execution_count": 3,
   "id": "303e84a7",
   "metadata": {},
   "outputs": [
    {
     "name": "stdout",
     "output_type": "stream",
     "text": [
      "[[2.]\n",
      " [1.]\n",
      " [0.]]\n"
     ]
    }
   ],
   "source": [
    "ordinal_encoder = OrdinalEncoder()\n",
    "# Code below can be ran if you want to specify how the categories should be ran. Test the code. \n",
    "# ordinal_encoder = OrdinalEncoder(categories = [['red', 'green', 'blue']])  \n",
    "result_ordinal = ordinal_encoder.fit_transform(data_ordinal)\n",
    "print(result_ordinal)"
   ]
  },
  {
   "cell_type": "code",
   "execution_count": 4,
   "id": "e0c2108a",
   "metadata": {},
   "outputs": [
    {
     "data": {
      "text/plain": [
       "[array(['blue', 'green', 'red'], dtype='<U5')]"
      ]
     },
     "execution_count": 4,
     "metadata": {},
     "output_type": "execute_result"
    }
   ],
   "source": [
    "ordinal_encoder.categories_"
   ]
  },
  {
   "cell_type": "markdown",
   "id": "15de0682",
   "metadata": {},
   "source": [
    "## Categorical data: one-hot encoding"
   ]
  },
  {
   "cell_type": "code",
   "execution_count": 5,
   "id": "822eb156",
   "metadata": {},
   "outputs": [
    {
     "name": "stdout",
     "output_type": "stream",
     "text": [
      "[['red']\n",
      " ['green']\n",
      " ['blue']]\n"
     ]
    }
   ],
   "source": [
    "data_categorical = asarray([['red'], ['green'], ['blue']])\n",
    "print(data_categorical)"
   ]
  },
  {
   "cell_type": "code",
   "execution_count": 6,
   "id": "e445a6ca",
   "metadata": {},
   "outputs": [
    {
     "name": "stdout",
     "output_type": "stream",
     "text": [
      "[[0. 0. 1.]\n",
      " [0. 1. 0.]\n",
      " [1. 0. 0.]]\n"
     ]
    }
   ],
   "source": [
    "onehot_encoder = OneHotEncoder(sparse=False)\n",
    "# Code below can be ran if you want to specify how the categories should be ran. Test the code. \n",
    "# onehot_encoder = OneHotEncoder(sparse=False, categories = [['red', 'green', 'blue']])  \n",
    "\n",
    "result_onehot = onehot_encoder.fit_transform(data_categorical)\n",
    "print(result_onehot)"
   ]
  },
  {
   "cell_type": "code",
   "execution_count": 7,
   "id": "7e894d1c",
   "metadata": {},
   "outputs": [
    {
     "data": {
      "text/plain": [
       "[array(['blue', 'green', 'red'], dtype='<U5')]"
      ]
     },
     "execution_count": 7,
     "metadata": {},
     "output_type": "execute_result"
    }
   ],
   "source": [
    "onehot_encoder.categories_"
   ]
  },
  {
   "cell_type": "markdown",
   "id": "a8efecef",
   "metadata": {},
   "source": [
    "## Categorical data: dummy encoding"
   ]
  },
  {
   "cell_type": "code",
   "execution_count": 8,
   "id": "a94d3a60",
   "metadata": {},
   "outputs": [
    {
     "name": "stdout",
     "output_type": "stream",
     "text": [
      "[['red']\n",
      " ['green']\n",
      " ['blue']]\n"
     ]
    }
   ],
   "source": [
    "data_categorical = asarray([['red'], ['green'], ['blue']])\n",
    "print(data_categorical)"
   ]
  },
  {
   "cell_type": "code",
   "execution_count": 9,
   "id": "da7c2f03",
   "metadata": {},
   "outputs": [
    {
     "name": "stdout",
     "output_type": "stream",
     "text": [
      "[[0. 1.]\n",
      " [1. 0.]\n",
      " [0. 0.]]\n"
     ]
    }
   ],
   "source": [
    "dummy_encoder = OneHotEncoder(sparse=False, drop='first')\n",
    "# Code below can be ran if you want to specify how the categories should be ran. Test the code. \n",
    "# dummy_encoder = OneHotEncoder(sparse=False, drop='first', categories = [['red', 'green', 'blue']])  \n",
    "\n",
    "result_dummy = dummy_encoder.fit_transform(data_categorical)\n",
    "print(result_dummy)"
   ]
  },
  {
   "cell_type": "code",
   "execution_count": 10,
   "id": "781fe985",
   "metadata": {},
   "outputs": [
    {
     "data": {
      "text/plain": [
       "[array(['blue', 'green', 'red'], dtype='<U5')]"
      ]
     },
     "execution_count": 10,
     "metadata": {},
     "output_type": "execute_result"
    }
   ],
   "source": [
    "dummy_encoder.categories_"
   ]
  }
 ],
 "metadata": {
  "kernelspec": {
   "display_name": "Python 3 (ipykernel)",
   "language": "python",
   "name": "python3"
  },
  "language_info": {
   "codemirror_mode": {
    "name": "ipython",
    "version": 3
   },
   "file_extension": ".py",
   "mimetype": "text/x-python",
   "name": "python",
   "nbconvert_exporter": "python",
   "pygments_lexer": "ipython3",
   "version": "3.8.0"
  }
 },
 "nbformat": 4,
 "nbformat_minor": 5
}
