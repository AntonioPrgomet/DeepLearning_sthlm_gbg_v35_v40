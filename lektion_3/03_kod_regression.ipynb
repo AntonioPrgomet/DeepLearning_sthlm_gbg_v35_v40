{
 "cells": [
  {
   "cell_type": "markdown",
   "id": "5157a98d",
   "metadata": {},
   "source": [
    "# Deep Learning - Regression Example\n",
    "I demonstrate the use of Deep Learning with Keras. Models with Scikit-learn are created as well for demonstration. "
   ]
  },
  {
   "cell_type": "code",
   "execution_count": 1,
   "id": "336ea8e7",
   "metadata": {},
   "outputs": [],
   "source": [
    "import numpy as np\n",
    "import pandas as pd\n",
    "import matplotlib.pyplot as plt \n",
    "\n",
    "from sklearn.datasets import load_diabetes\n",
    "from sklearn.model_selection import train_test_split\n",
    "from sklearn.linear_model import LinearRegression\n",
    "from sklearn.ensemble import RandomForestRegressor\n",
    "from sklearn.metrics import mean_squared_error\n",
    "from sklearn.model_selection import GridSearchCV\n",
    "\n",
    "import tensorflow as tf\n",
    "from tensorflow import keras\n",
    "\n",
    "from tensorflow.keras.models import load_model\n",
    "\n",
    "from tensorflow.keras.layers import Dense\n",
    "from tensorflow.keras.models import Sequential\n",
    "from tensorflow.keras.utils import to_categorical\n",
    "from tensorflow.keras.models import load_model\n",
    "from tensorflow.keras.callbacks import EarlyStopping"
   ]
  },
  {
   "cell_type": "markdown",
   "id": "327415c3",
   "metadata": {},
   "source": [
    "# Data"
   ]
  },
  {
   "cell_type": "code",
   "execution_count": 2,
   "id": "67b08db1",
   "metadata": {},
   "outputs": [
    {
     "name": "stdout",
     "output_type": "stream",
     "text": [
      ".. _diabetes_dataset:\n",
      "\n",
      "Diabetes dataset\n",
      "----------------\n",
      "\n",
      "Ten baseline variables, age, sex, body mass index, average blood\n",
      "pressure, and six blood serum measurements were obtained for each of n =\n",
      "442 diabetes patients, as well as the response of interest, a\n",
      "quantitative measure of disease progression one year after baseline.\n",
      "\n",
      "**Data Set Characteristics:**\n",
      "\n",
      "  :Number of Instances: 442\n",
      "\n",
      "  :Number of Attributes: First 10 columns are numeric predictive values\n",
      "\n",
      "  :Target: Column 11 is a quantitative measure of disease progression one year after baseline\n",
      "\n",
      "  :Attribute Information:\n",
      "      - age     age in years\n",
      "      - sex\n",
      "      - bmi     body mass index\n",
      "      - bp      average blood pressure\n",
      "      - s1      tc, total serum cholesterol\n",
      "      - s2      ldl, low-density lipoproteins\n",
      "      - s3      hdl, high-density lipoproteins\n",
      "      - s4      tch, total cholesterol / HDL\n",
      "      - s5      ltg, possibly log of serum triglycerides level\n",
      "      - s6      glu, blood sugar level\n",
      "\n",
      "Note: Each of these 10 feature variables have been mean centered and scaled by the standard deviation times `n_samples` (i.e. the sum of squares of each column totals 1).\n",
      "\n",
      "Source URL:\n",
      "https://www4.stat.ncsu.edu/~boos/var.select/diabetes.html\n",
      "\n",
      "For more information see:\n",
      "Bradley Efron, Trevor Hastie, Iain Johnstone and Robert Tibshirani (2004) \"Least Angle Regression,\" Annals of Statistics (with discussion), 407-499.\n",
      "(https://web.stanford.edu/~hastie/Papers/LARS/LeastAngle_2002.pdf)\n"
     ]
    }
   ],
   "source": [
    "data = load_diabetes()\n",
    "print(data.DESCR)"
   ]
  },
  {
   "cell_type": "code",
   "execution_count": 3,
   "id": "1923ad1b",
   "metadata": {},
   "outputs": [],
   "source": [
    "X, y = load_diabetes(return_X_y=True, as_frame=True)"
   ]
  },
  {
   "cell_type": "code",
   "execution_count": 4,
   "id": "5b2a55d5",
   "metadata": {},
   "outputs": [],
   "source": [
    "X_train, X_val, y_train, y_val = train_test_split(X, y, test_size=0.2, random_state=42)"
   ]
  },
  {
   "cell_type": "markdown",
   "id": "c2857b5c",
   "metadata": {},
   "source": [
    "# EDA"
   ]
  },
  {
   "cell_type": "code",
   "execution_count": 5,
   "id": "6ae61a61",
   "metadata": {},
   "outputs": [
    {
     "data": {
      "text/html": [
       "<div>\n",
       "<style scoped>\n",
       "    .dataframe tbody tr th:only-of-type {\n",
       "        vertical-align: middle;\n",
       "    }\n",
       "\n",
       "    .dataframe tbody tr th {\n",
       "        vertical-align: top;\n",
       "    }\n",
       "\n",
       "    .dataframe thead th {\n",
       "        text-align: right;\n",
       "    }\n",
       "</style>\n",
       "<table border=\"1\" class=\"dataframe\">\n",
       "  <thead>\n",
       "    <tr style=\"text-align: right;\">\n",
       "      <th></th>\n",
       "      <th>age</th>\n",
       "      <th>sex</th>\n",
       "      <th>bmi</th>\n",
       "      <th>bp</th>\n",
       "      <th>s1</th>\n",
       "      <th>s2</th>\n",
       "      <th>s3</th>\n",
       "      <th>s4</th>\n",
       "      <th>s5</th>\n",
       "      <th>s6</th>\n",
       "    </tr>\n",
       "  </thead>\n",
       "  <tbody>\n",
       "    <tr>\n",
       "      <th>0</th>\n",
       "      <td>0.038076</td>\n",
       "      <td>0.050680</td>\n",
       "      <td>0.061696</td>\n",
       "      <td>0.021872</td>\n",
       "      <td>-0.044223</td>\n",
       "      <td>-0.034821</td>\n",
       "      <td>-0.043401</td>\n",
       "      <td>-0.002592</td>\n",
       "      <td>0.019908</td>\n",
       "      <td>-0.017646</td>\n",
       "    </tr>\n",
       "    <tr>\n",
       "      <th>1</th>\n",
       "      <td>-0.001882</td>\n",
       "      <td>-0.044642</td>\n",
       "      <td>-0.051474</td>\n",
       "      <td>-0.026328</td>\n",
       "      <td>-0.008449</td>\n",
       "      <td>-0.019163</td>\n",
       "      <td>0.074412</td>\n",
       "      <td>-0.039493</td>\n",
       "      <td>-0.068330</td>\n",
       "      <td>-0.092204</td>\n",
       "    </tr>\n",
       "    <tr>\n",
       "      <th>2</th>\n",
       "      <td>0.085299</td>\n",
       "      <td>0.050680</td>\n",
       "      <td>0.044451</td>\n",
       "      <td>-0.005671</td>\n",
       "      <td>-0.045599</td>\n",
       "      <td>-0.034194</td>\n",
       "      <td>-0.032356</td>\n",
       "      <td>-0.002592</td>\n",
       "      <td>0.002864</td>\n",
       "      <td>-0.025930</td>\n",
       "    </tr>\n",
       "    <tr>\n",
       "      <th>3</th>\n",
       "      <td>-0.089063</td>\n",
       "      <td>-0.044642</td>\n",
       "      <td>-0.011595</td>\n",
       "      <td>-0.036656</td>\n",
       "      <td>0.012191</td>\n",
       "      <td>0.024991</td>\n",
       "      <td>-0.036038</td>\n",
       "      <td>0.034309</td>\n",
       "      <td>0.022692</td>\n",
       "      <td>-0.009362</td>\n",
       "    </tr>\n",
       "    <tr>\n",
       "      <th>4</th>\n",
       "      <td>0.005383</td>\n",
       "      <td>-0.044642</td>\n",
       "      <td>-0.036385</td>\n",
       "      <td>0.021872</td>\n",
       "      <td>0.003935</td>\n",
       "      <td>0.015596</td>\n",
       "      <td>0.008142</td>\n",
       "      <td>-0.002592</td>\n",
       "      <td>-0.031991</td>\n",
       "      <td>-0.046641</td>\n",
       "    </tr>\n",
       "  </tbody>\n",
       "</table>\n",
       "</div>"
      ],
      "text/plain": [
       "        age       sex       bmi        bp        s1        s2        s3  \\\n",
       "0  0.038076  0.050680  0.061696  0.021872 -0.044223 -0.034821 -0.043401   \n",
       "1 -0.001882 -0.044642 -0.051474 -0.026328 -0.008449 -0.019163  0.074412   \n",
       "2  0.085299  0.050680  0.044451 -0.005671 -0.045599 -0.034194 -0.032356   \n",
       "3 -0.089063 -0.044642 -0.011595 -0.036656  0.012191  0.024991 -0.036038   \n",
       "4  0.005383 -0.044642 -0.036385  0.021872  0.003935  0.015596  0.008142   \n",
       "\n",
       "         s4        s5        s6  \n",
       "0 -0.002592  0.019908 -0.017646  \n",
       "1 -0.039493 -0.068330 -0.092204  \n",
       "2 -0.002592  0.002864 -0.025930  \n",
       "3  0.034309  0.022692 -0.009362  \n",
       "4 -0.002592 -0.031991 -0.046641  "
      ]
     },
     "execution_count": 5,
     "metadata": {},
     "output_type": "execute_result"
    }
   ],
   "source": [
    "X.head()"
   ]
  },
  {
   "cell_type": "code",
   "execution_count": 6,
   "id": "2140b9ea",
   "metadata": {},
   "outputs": [
    {
     "data": {
      "text/html": [
       "<div>\n",
       "<style scoped>\n",
       "    .dataframe tbody tr th:only-of-type {\n",
       "        vertical-align: middle;\n",
       "    }\n",
       "\n",
       "    .dataframe tbody tr th {\n",
       "        vertical-align: top;\n",
       "    }\n",
       "\n",
       "    .dataframe thead th {\n",
       "        text-align: right;\n",
       "    }\n",
       "</style>\n",
       "<table border=\"1\" class=\"dataframe\">\n",
       "  <thead>\n",
       "    <tr style=\"text-align: right;\">\n",
       "      <th></th>\n",
       "      <th>age</th>\n",
       "      <th>sex</th>\n",
       "      <th>bmi</th>\n",
       "      <th>bp</th>\n",
       "      <th>s1</th>\n",
       "      <th>s2</th>\n",
       "      <th>s3</th>\n",
       "      <th>s4</th>\n",
       "      <th>s5</th>\n",
       "      <th>s6</th>\n",
       "    </tr>\n",
       "  </thead>\n",
       "  <tbody>\n",
       "    <tr>\n",
       "      <th>count</th>\n",
       "      <td>4.420000e+02</td>\n",
       "      <td>4.420000e+02</td>\n",
       "      <td>4.420000e+02</td>\n",
       "      <td>4.420000e+02</td>\n",
       "      <td>4.420000e+02</td>\n",
       "      <td>4.420000e+02</td>\n",
       "      <td>4.420000e+02</td>\n",
       "      <td>4.420000e+02</td>\n",
       "      <td>4.420000e+02</td>\n",
       "      <td>4.420000e+02</td>\n",
       "    </tr>\n",
       "    <tr>\n",
       "      <th>mean</th>\n",
       "      <td>-3.634285e-16</td>\n",
       "      <td>1.308343e-16</td>\n",
       "      <td>-8.045349e-16</td>\n",
       "      <td>1.281655e-16</td>\n",
       "      <td>-8.835316e-17</td>\n",
       "      <td>1.327024e-16</td>\n",
       "      <td>-4.574646e-16</td>\n",
       "      <td>3.777301e-16</td>\n",
       "      <td>-3.830854e-16</td>\n",
       "      <td>-3.412882e-16</td>\n",
       "    </tr>\n",
       "    <tr>\n",
       "      <th>std</th>\n",
       "      <td>4.761905e-02</td>\n",
       "      <td>4.761905e-02</td>\n",
       "      <td>4.761905e-02</td>\n",
       "      <td>4.761905e-02</td>\n",
       "      <td>4.761905e-02</td>\n",
       "      <td>4.761905e-02</td>\n",
       "      <td>4.761905e-02</td>\n",
       "      <td>4.761905e-02</td>\n",
       "      <td>4.761905e-02</td>\n",
       "      <td>4.761905e-02</td>\n",
       "    </tr>\n",
       "    <tr>\n",
       "      <th>min</th>\n",
       "      <td>-1.072256e-01</td>\n",
       "      <td>-4.464164e-02</td>\n",
       "      <td>-9.027530e-02</td>\n",
       "      <td>-1.123996e-01</td>\n",
       "      <td>-1.267807e-01</td>\n",
       "      <td>-1.156131e-01</td>\n",
       "      <td>-1.023071e-01</td>\n",
       "      <td>-7.639450e-02</td>\n",
       "      <td>-1.260974e-01</td>\n",
       "      <td>-1.377672e-01</td>\n",
       "    </tr>\n",
       "    <tr>\n",
       "      <th>25%</th>\n",
       "      <td>-3.729927e-02</td>\n",
       "      <td>-4.464164e-02</td>\n",
       "      <td>-3.422907e-02</td>\n",
       "      <td>-3.665645e-02</td>\n",
       "      <td>-3.424784e-02</td>\n",
       "      <td>-3.035840e-02</td>\n",
       "      <td>-3.511716e-02</td>\n",
       "      <td>-3.949338e-02</td>\n",
       "      <td>-3.324879e-02</td>\n",
       "      <td>-3.317903e-02</td>\n",
       "    </tr>\n",
       "    <tr>\n",
       "      <th>50%</th>\n",
       "      <td>5.383060e-03</td>\n",
       "      <td>-4.464164e-02</td>\n",
       "      <td>-7.283766e-03</td>\n",
       "      <td>-5.670611e-03</td>\n",
       "      <td>-4.320866e-03</td>\n",
       "      <td>-3.819065e-03</td>\n",
       "      <td>-6.584468e-03</td>\n",
       "      <td>-2.592262e-03</td>\n",
       "      <td>-1.947634e-03</td>\n",
       "      <td>-1.077698e-03</td>\n",
       "    </tr>\n",
       "    <tr>\n",
       "      <th>75%</th>\n",
       "      <td>3.807591e-02</td>\n",
       "      <td>5.068012e-02</td>\n",
       "      <td>3.124802e-02</td>\n",
       "      <td>3.564384e-02</td>\n",
       "      <td>2.835801e-02</td>\n",
       "      <td>2.984439e-02</td>\n",
       "      <td>2.931150e-02</td>\n",
       "      <td>3.430886e-02</td>\n",
       "      <td>3.243323e-02</td>\n",
       "      <td>2.791705e-02</td>\n",
       "    </tr>\n",
       "    <tr>\n",
       "      <th>max</th>\n",
       "      <td>1.107267e-01</td>\n",
       "      <td>5.068012e-02</td>\n",
       "      <td>1.705552e-01</td>\n",
       "      <td>1.320442e-01</td>\n",
       "      <td>1.539137e-01</td>\n",
       "      <td>1.987880e-01</td>\n",
       "      <td>1.811791e-01</td>\n",
       "      <td>1.852344e-01</td>\n",
       "      <td>1.335990e-01</td>\n",
       "      <td>1.356118e-01</td>\n",
       "    </tr>\n",
       "  </tbody>\n",
       "</table>\n",
       "</div>"
      ],
      "text/plain": [
       "                age           sex           bmi            bp            s1  \\\n",
       "count  4.420000e+02  4.420000e+02  4.420000e+02  4.420000e+02  4.420000e+02   \n",
       "mean  -3.634285e-16  1.308343e-16 -8.045349e-16  1.281655e-16 -8.835316e-17   \n",
       "std    4.761905e-02  4.761905e-02  4.761905e-02  4.761905e-02  4.761905e-02   \n",
       "min   -1.072256e-01 -4.464164e-02 -9.027530e-02 -1.123996e-01 -1.267807e-01   \n",
       "25%   -3.729927e-02 -4.464164e-02 -3.422907e-02 -3.665645e-02 -3.424784e-02   \n",
       "50%    5.383060e-03 -4.464164e-02 -7.283766e-03 -5.670611e-03 -4.320866e-03   \n",
       "75%    3.807591e-02  5.068012e-02  3.124802e-02  3.564384e-02  2.835801e-02   \n",
       "max    1.107267e-01  5.068012e-02  1.705552e-01  1.320442e-01  1.539137e-01   \n",
       "\n",
       "                 s2            s3            s4            s5            s6  \n",
       "count  4.420000e+02  4.420000e+02  4.420000e+02  4.420000e+02  4.420000e+02  \n",
       "mean   1.327024e-16 -4.574646e-16  3.777301e-16 -3.830854e-16 -3.412882e-16  \n",
       "std    4.761905e-02  4.761905e-02  4.761905e-02  4.761905e-02  4.761905e-02  \n",
       "min   -1.156131e-01 -1.023071e-01 -7.639450e-02 -1.260974e-01 -1.377672e-01  \n",
       "25%   -3.035840e-02 -3.511716e-02 -3.949338e-02 -3.324879e-02 -3.317903e-02  \n",
       "50%   -3.819065e-03 -6.584468e-03 -2.592262e-03 -1.947634e-03 -1.077698e-03  \n",
       "75%    2.984439e-02  2.931150e-02  3.430886e-02  3.243323e-02  2.791705e-02  \n",
       "max    1.987880e-01  1.811791e-01  1.852344e-01  1.335990e-01  1.356118e-01  "
      ]
     },
     "execution_count": 6,
     "metadata": {},
     "output_type": "execute_result"
    }
   ],
   "source": [
    "X.describe()"
   ]
  },
  {
   "cell_type": "code",
   "execution_count": 7,
   "id": "9f213fa6",
   "metadata": {},
   "outputs": [
    {
     "name": "stdout",
     "output_type": "stream",
     "text": [
      "<class 'pandas.core.frame.DataFrame'>\n",
      "RangeIndex: 442 entries, 0 to 441\n",
      "Data columns (total 10 columns):\n",
      " #   Column  Non-Null Count  Dtype  \n",
      "---  ------  --------------  -----  \n",
      " 0   age     442 non-null    float64\n",
      " 1   sex     442 non-null    float64\n",
      " 2   bmi     442 non-null    float64\n",
      " 3   bp      442 non-null    float64\n",
      " 4   s1      442 non-null    float64\n",
      " 5   s2      442 non-null    float64\n",
      " 6   s3      442 non-null    float64\n",
      " 7   s4      442 non-null    float64\n",
      " 8   s5      442 non-null    float64\n",
      " 9   s6      442 non-null    float64\n",
      "dtypes: float64(10)\n",
      "memory usage: 34.7 KB\n"
     ]
    }
   ],
   "source": [
    "X.info()"
   ]
  },
  {
   "cell_type": "markdown",
   "id": "649a16fa",
   "metadata": {},
   "source": [
    "# Modelling the data"
   ]
  },
  {
   "cell_type": "code",
   "execution_count": 8,
   "id": "05543f0f",
   "metadata": {},
   "outputs": [
    {
     "data": {
      "text/plain": [
       "10"
      ]
     },
     "execution_count": 8,
     "metadata": {},
     "output_type": "execute_result"
    }
   ],
   "source": [
    "n_cols = X_train.shape[1]\n",
    "n_cols"
   ]
  },
  {
   "cell_type": "markdown",
   "id": "44d21787",
   "metadata": {},
   "source": [
    "## Creating two neural networks with Keras"
   ]
  },
  {
   "cell_type": "code",
   "execution_count": 9,
   "id": "cda537cb",
   "metadata": {},
   "outputs": [],
   "source": [
    "model_1 = Sequential()\n",
    "# Dense layer means that each node is connected to the nodes in the previous layer\n",
    "model_1.add(Dense(10, activation = 'relu', input_shape = (n_cols, )))\n",
    "model_1.add(Dense(10, activation = 'relu'))\n",
    "model_1.add(Dense(1))\n",
    "\n",
    "model_1.compile(optimizer = 'adam', loss = 'mean_squared_error')\n",
    "\n",
    "early_stopping_monitor = EarlyStopping(patience = 2)\n",
    "model_1_trained = model_1.fit(X_train, y_train, validation_split = 0.2, epochs = 50, callbacks = [early_stopping_monitor], verbose = False)"
   ]
  },
  {
   "cell_type": "code",
   "execution_count": 10,
   "id": "fec317dc",
   "metadata": {},
   "outputs": [
    {
     "name": "stdout",
     "output_type": "stream",
     "text": [
      "Epoch 1/50\n",
      "9/9 [==============================] - 1s 36ms/step - loss: 31527.3945 - val_loss: 22484.1523\n",
      "Epoch 2/50\n",
      "9/9 [==============================] - 0s 10ms/step - loss: 31517.1309 - val_loss: 22474.7227\n",
      "Epoch 3/50\n",
      "9/9 [==============================] - 0s 9ms/step - loss: 31503.3184 - val_loss: 22461.1445\n",
      "Epoch 4/50\n",
      "9/9 [==============================] - 0s 8ms/step - loss: 31484.7598 - val_loss: 22442.2402\n",
      "Epoch 5/50\n",
      "9/9 [==============================] - 0s 8ms/step - loss: 31456.7949 - val_loss: 22415.7188\n",
      "Epoch 6/50\n",
      "9/9 [==============================] - 0s 10ms/step - loss: 31419.4609 - val_loss: 22378.3730\n",
      "Epoch 7/50\n",
      "9/9 [==============================] - 0s 9ms/step - loss: 31367.3867 - val_loss: 22327.1582\n",
      "Epoch 8/50\n",
      "9/9 [==============================] - 0s 9ms/step - loss: 31293.0137 - val_loss: 22258.1992\n",
      "Epoch 9/50\n",
      "9/9 [==============================] - 0s 11ms/step - loss: 31194.7617 - val_loss: 22165.4863\n",
      "Epoch 10/50\n",
      "9/9 [==============================] - 0s 10ms/step - loss: 31057.5293 - val_loss: 22043.4707\n",
      "Epoch 11/50\n",
      "9/9 [==============================] - 0s 9ms/step - loss: 30900.7305 - val_loss: 21884.9316\n",
      "Epoch 12/50\n",
      "9/9 [==============================] - 0s 10ms/step - loss: 30676.7383 - val_loss: 21684.7305\n",
      "Epoch 13/50\n",
      "9/9 [==============================] - 0s 8ms/step - loss: 30383.2559 - val_loss: 21431.2500\n",
      "Epoch 14/50\n",
      "9/9 [==============================] - 0s 10ms/step - loss: 30041.2695 - val_loss: 21114.4824\n",
      "Epoch 15/50\n",
      "9/9 [==============================] - 0s 9ms/step - loss: 29579.7285 - val_loss: 20731.2441\n",
      "Epoch 16/50\n",
      "9/9 [==============================] - 0s 9ms/step - loss: 29064.2988 - val_loss: 20265.1406\n",
      "Epoch 17/50\n",
      "9/9 [==============================] - 0s 9ms/step - loss: 28394.8301 - val_loss: 19718.3145\n",
      "Epoch 18/50\n",
      "9/9 [==============================] - 0s 9ms/step - loss: 27674.5254 - val_loss: 19067.5977\n",
      "Epoch 19/50\n",
      "9/9 [==============================] - 0s 10ms/step - loss: 26853.6211 - val_loss: 18328.3262\n",
      "Epoch 20/50\n",
      "9/9 [==============================] - 0s 11ms/step - loss: 25781.7051 - val_loss: 17483.4609\n",
      "Epoch 21/50\n",
      "9/9 [==============================] - 0s 10ms/step - loss: 24648.0684 - val_loss: 16532.2539\n",
      "Epoch 22/50\n",
      "9/9 [==============================] - 0s 10ms/step - loss: 23356.8223 - val_loss: 15467.5459\n",
      "Epoch 23/50\n",
      "9/9 [==============================] - 0s 12ms/step - loss: 21828.8203 - val_loss: 14279.8184\n",
      "Epoch 24/50\n",
      "9/9 [==============================] - 0s 8ms/step - loss: 20234.8340 - val_loss: 13017.8184\n",
      "Epoch 25/50\n",
      "9/9 [==============================] - 0s 10ms/step - loss: 18637.9219 - val_loss: 11669.3760\n",
      "Epoch 26/50\n",
      "9/9 [==============================] - 0s 10ms/step - loss: 16697.1699 - val_loss: 10314.4688\n",
      "Epoch 27/50\n",
      "9/9 [==============================] - 0s 9ms/step - loss: 15012.5068 - val_loss: 8973.0898\n",
      "Epoch 28/50\n",
      "9/9 [==============================] - 0s 9ms/step - loss: 13068.2744 - val_loss: 7719.7754\n",
      "Epoch 29/50\n",
      "9/9 [==============================] - 0s 11ms/step - loss: 11255.3584 - val_loss: 6569.0542\n",
      "Epoch 30/50\n",
      "9/9 [==============================] - 0s 9ms/step - loss: 9719.4824 - val_loss: 5568.1758\n",
      "Epoch 31/50\n",
      "9/9 [==============================] - 0s 11ms/step - loss: 8293.2031 - val_loss: 4735.2026\n",
      "Epoch 32/50\n",
      "9/9 [==============================] - 0s 11ms/step - loss: 6990.0576 - val_loss: 4152.6304\n",
      "Epoch 33/50\n",
      "9/9 [==============================] - 0s 14ms/step - loss: 6097.1265 - val_loss: 3791.3240\n",
      "Epoch 34/50\n",
      "9/9 [==============================] - 0s 20ms/step - loss: 5357.3179 - val_loss: 3599.4036\n",
      "Epoch 35/50\n",
      "9/9 [==============================] - 0s 16ms/step - loss: 5045.2607 - val_loss: 3546.5344\n",
      "Epoch 36/50\n",
      "9/9 [==============================] - 0s 12ms/step - loss: 4492.7129 - val_loss: 3572.1997\n",
      "Epoch 37/50\n",
      "9/9 [==============================] - 0s 13ms/step - loss: 4564.8418 - val_loss: 3623.3669\n"
     ]
    }
   ],
   "source": [
    "model_2 = Sequential()\n",
    "model_2.add(Dense(100, activation = 'relu', input_shape = (n_cols, )))\n",
    "model_2.add(keras.layers.Dropout(0.50))\n",
    "model_2.add(Dense(10, activation = 'relu'))\n",
    "model_2.add(Dense(10, activation = 'relu'))\n",
    "model_2.add(Dense(1))\n",
    "\n",
    "model_2.compile(optimizer = 'adam', loss = 'mean_squared_error')\n",
    "\n",
    "early_stopping_monitor = EarlyStopping(patience = 2)\n",
    "model_2_trained = model_2.fit(X_train, y_train, validation_split = 0.2, epochs = 50, callbacks = [early_stopping_monitor])"
   ]
  },
  {
   "cell_type": "code",
   "execution_count": 11,
   "id": "aa0cbcd2",
   "metadata": {},
   "outputs": [
    {
     "data": {
      "text/plain": [
       "<matplotlib.legend.Legend at 0x197e74d4820>"
      ]
     },
     "execution_count": 11,
     "metadata": {},
     "output_type": "execute_result"
    },
    {
     "data": {
      "image/png": "[encoded data removed]",
      "text/plain": [
       "<Figure size 432x288 with 1 Axes>"
      ]
     },
     "metadata": {
      "needs_background": "light"
     },
     "output_type": "display_data"
    }
   ],
   "source": [
    "plt.plot(np.sqrt(model_1_trained.history['val_loss']), 'r', label='Model 1')\n",
    "plt.plot(np.sqrt(model_2_trained.history['val_loss']), label='Model 2')\n",
    "plt.xlabel('Epochs')\n",
    "plt.ylabel('RMSE, Validation score')\n",
    "plt.legend()"
   ]
  },
  {
   "cell_type": "markdown",
   "id": "5694a894",
   "metadata": {},
   "source": [
    "## Creating two models with Scikit-learn"
   ]
  },
  {
   "cell_type": "code",
   "execution_count": 12,
   "id": "3f39ea03",
   "metadata": {},
   "outputs": [
    {
     "data": {
      "text/plain": [
       "LinearRegression()"
      ]
     },
     "execution_count": 12,
     "metadata": {},
     "output_type": "execute_result"
    }
   ],
   "source": [
    "lin_reg = LinearRegression()\n",
    "lin_reg.fit(X_train, y_train)"
   ]
  },
  {
   "cell_type": "code",
   "execution_count": 13,
   "id": "f5cb5c80",
   "metadata": {},
   "outputs": [
    {
     "data": {
      "text/plain": [
       "GridSearchCV(cv=5, estimator=RandomForestRegressor(),\n",
       "             param_grid={'max_depth': [1, 2, 5, 10],\n",
       "                         'n_estimators': [10, 50, 100]})"
      ]
     },
     "execution_count": 13,
     "metadata": {},
     "output_type": "execute_result"
    }
   ],
   "source": [
    "random_forest = RandomForestRegressor()\n",
    "param_grid = { \n",
    "    'n_estimators': [10, 50, 100],\n",
    "    'max_depth' : [1, 2, 5, 10],\n",
    "}\n",
    "cv_rf = GridSearchCV(estimator=random_forest, param_grid=param_grid, cv= 5)\n",
    "cv_rf.fit(X_train, y_train)"
   ]
  },
  {
   "cell_type": "code",
   "execution_count": null,
   "id": "7f90aac8",
   "metadata": {},
   "outputs": [],
   "source": [
    "# pd.DataFrame(cv_rf.cv_results_)"
   ]
  },
  {
   "cell_type": "markdown",
   "id": "d22cef8e",
   "metadata": {},
   "source": [
    "# Compare the 4 models on the validation data"
   ]
  },
  {
   "cell_type": "code",
   "execution_count": 14,
   "id": "782c3fc3",
   "metadata": {},
   "outputs": [
    {
     "name": "stdout",
     "output_type": "stream",
     "text": [
      "3/3 [==============================] - 0s 2ms/step\n",
      "3/3 [==============================] - 0s 2ms/step\n"
     ]
    }
   ],
   "source": [
    "y_pred_m1 = model_1.predict(X_val)\n",
    "y_pred_m2 = model_2.predict(X_val)\n",
    "y_pred_lin_reg = lin_reg.predict(X_val)\n",
    "y_pred_rf = cv_rf.predict(X_val)"
   ]
  },
  {
   "cell_type": "code",
   "execution_count": 15,
   "id": "bcae11bb",
   "metadata": {},
   "outputs": [
    {
     "name": "stdout",
     "output_type": "stream",
     "text": [
      "16302.047965505297\n",
      "3567.7453656293587\n",
      "2900.173287883231\n",
      "2983.53684579361\n"
     ]
    }
   ],
   "source": [
    "# Caluclate RMSE for each model and see which one is best\n",
    "print(mean_squared_error(y_pred_m1, y_val))\n",
    "print(mean_squared_error(y_pred_m2, y_val))\n",
    "print(mean_squared_error(y_pred_lin_reg, y_val))\n",
    "print(mean_squared_error(y_pred_rf, y_val))"
   ]
  },
  {
   "cell_type": "markdown",
   "id": "4603a4e0",
   "metadata": {},
   "source": [
    "# Demonstration that you can load/save models\n",
    "Training complex models on large datasets can take alot of time. Fortunately you can save and then load them."
   ]
  },
  {
   "cell_type": "code",
   "execution_count": 16,
   "id": "41d15b9a",
   "metadata": {},
   "outputs": [],
   "source": [
    "model_2.save('model_file.h5')"
   ]
  },
  {
   "cell_type": "code",
   "execution_count": 17,
   "id": "e23fa949",
   "metadata": {},
   "outputs": [],
   "source": [
    "my_model = load_model('model_file.h5')"
   ]
  },
  {
   "cell_type": "code",
   "execution_count": 18,
   "id": "bd0ec229",
   "metadata": {},
   "outputs": [
    {
     "name": "stdout",
     "output_type": "stream",
     "text": [
      "3/3 [==============================] - 0s 2ms/step\n"
     ]
    }
   ],
   "source": [
    "predictions = my_model.predict(X_val)"
   ]
  },
  {
   "cell_type": "code",
   "execution_count": 19,
   "id": "b6fd1164",
   "metadata": {},
   "outputs": [
    {
     "name": "stdout",
     "output_type": "stream",
     "text": [
      "3567.7453656293587\n"
     ]
    }
   ],
   "source": [
    "# We get the same result as above\n",
    "print(mean_squared_error(predictions, y_val))"
   ]
  },
  {
   "cell_type": "code",
   "execution_count": null,
   "id": "b32624a1",
   "metadata": {},
   "outputs": [],
   "source": []
  }
 ],
 "metadata": {
  "kernelspec": {
   "display_name": "Python 3 (ipykernel)",
   "language": "python",
   "name": "python3"
  },
  "language_info": {
   "codemirror_mode": {
    "name": "ipython",
    "version": 3
   },
   "file_extension": ".py",
   "mimetype": "text/x-python",
   "name": "python",
   "nbconvert_exporter": "python",
   "pygments_lexer": "ipython3",
   "version": "3.8.0"
  }
 },
 "nbformat": 4,
 "nbformat_minor": 5
}
