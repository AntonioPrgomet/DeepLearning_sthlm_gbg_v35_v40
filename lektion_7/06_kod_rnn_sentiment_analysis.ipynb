{
 "cells": [
  {
   "cell_type": "markdown",
   "id": "5a3fedbd",
   "metadata": {},
   "source": [
    "# Sentiment Analysis - IMDB\n",
    "In this  code example we demonstrate the use of a RNN on a Natural Language Processing (NLP) task, namely Sentiment Analysis. "
   ]
  },
  {
   "cell_type": "code",
   "execution_count": 1,
   "id": "13a7d65b",
   "metadata": {},
   "outputs": [],
   "source": [
    "import numpy as np\n",
    "import matplotlib.pyplot as plt\n",
    "from tensorflow import keras\n",
    "from tensorflow.keras.datasets import imdb\n",
    "from tensorflow.keras.preprocessing.sequence import pad_sequences\n",
    "from sklearn.metrics import confusion_matrix, ConfusionMatrixDisplay"
   ]
  },
  {
   "cell_type": "markdown",
   "id": "8f56adef",
   "metadata": {},
   "source": [
    "# Data"
   ]
  },
  {
   "cell_type": "code",
   "execution_count": 2,
   "id": "240261ef",
   "metadata": {},
   "outputs": [
    {
     "name": "stdout",
     "output_type": "stream",
     "text": [
      "(12500,)\n",
      "(12500,)\n"
     ]
    }
   ],
   "source": [
    "# We keep the 10 000 most frequent words, the rest are represented as \"oov_char\" values.\n",
    "(x_train, y_train), (x_test, y_test) = imdb.load_data(num_words=10000)\n",
    "\n",
    "# Limit the dataset so training goes faster for demonstration purposes (try using the full dataset)\n",
    "limit = 12500\n",
    "x_train = x_train[:limit]\n",
    "y_train = y_train[:limit]\n",
    "x_test = x_test[:limit]\n",
    "y_test = y_test[:limit]\n",
    "\n",
    "print(x_train.shape)\n",
    "print(y_train.shape)"
   ]
  },
  {
   "cell_type": "code",
   "execution_count": 3,
   "id": "9f452093",
   "metadata": {},
   "outputs": [
    {
     "name": "stdout",
     "output_type": "stream",
     "text": [
      "[1, 14, 22, 16, 43, 530, 973, 1622, 1385, 65, 458, 4468]\n"
     ]
    }
   ],
   "source": [
    "# Each word is represented using an integer corresponding to the location of that word in the 10 000-word dictionary\n",
    "print(x_train[0][:12])"
   ]
  },
  {
   "cell_type": "code",
   "execution_count": 4,
   "id": "e2c7010b",
   "metadata": {},
   "outputs": [
    {
     "name": "stdout",
     "output_type": "stream",
     "text": [
      "? this film was just brilliant casting location scenery story direction everyone's\n"
     ]
    }
   ],
   "source": [
    "# Printing out actual text instead of numbers\n",
    "word_index = imdb.get_word_index()\n",
    "\n",
    "def decode_review(text, word_index):\n",
    "    reverse_word_index = dict([(value, key) for (key, value) in word_index.items()])\n",
    "    decoded_review = ' '.join([reverse_word_index.get(i - 3, '?') for i in text])\n",
    "    return decoded_review\n",
    "\n",
    "print(decode_review(x_train[0][:12], word_index))"
   ]
  },
  {
   "cell_type": "code",
   "execution_count": 5,
   "id": "cb797d68",
   "metadata": {},
   "outputs": [
    {
     "name": "stdout",
     "output_type": "stream",
     "text": [
      "178.0\n",
      "0.91536\n"
     ]
    }
   ],
   "source": [
    "# Calculating the lengths of the documents (word count), 91% of the documents have fewer than 500 words\n",
    "wc = np.array([len(x) for x in x_train])\n",
    "print(np.median(wc))\n",
    "print(np.mean(wc <= 500))"
   ]
  },
  {
   "cell_type": "code",
   "execution_count": 6,
   "id": "4c962865",
   "metadata": {},
   "outputs": [
    {
     "name": "stdout",
     "output_type": "stream",
     "text": [
      "(12500, 500)\n",
      "(12500, 500)\n"
     ]
    }
   ],
   "source": [
    "# Padding\n",
    "maxlen = 500\n",
    "x_train = pad_sequences(x_train, maxlen=maxlen)\n",
    "x_test = pad_sequences(x_test, maxlen=maxlen)\n",
    "print(np.shape(x_train))\n",
    "print(np.shape(x_test))"
   ]
  },
  {
   "cell_type": "markdown",
   "id": "62ccf3b0",
   "metadata": {},
   "source": [
    "# Model"
   ]
  },
  {
   "cell_type": "code",
   "execution_count": 7,
   "id": "d80c49ae",
   "metadata": {},
   "outputs": [
    {
     "name": "stdout",
     "output_type": "stream",
     "text": [
      "Epoch 1/5\n",
      "98/98 [==============================] - 61s 542ms/step - loss: 0.6647 - accuracy: 0.5943 - val_loss: 0.6059 - val_accuracy: 0.6345\n",
      "Epoch 2/5\n",
      "98/98 [==============================] - 50s 509ms/step - loss: 0.4551 - accuracy: 0.8045 - val_loss: 0.4508 - val_accuracy: 0.8220\n",
      "Epoch 3/5\n",
      "98/98 [==============================] - 35s 363ms/step - loss: 0.3277 - accuracy: 0.8706 - val_loss: 0.3463 - val_accuracy: 0.8558\n",
      "Epoch 4/5\n",
      "98/98 [==============================] - 35s 355ms/step - loss: 0.2622 - accuracy: 0.8998 - val_loss: 0.3147 - val_accuracy: 0.8705\n",
      "Epoch 5/5\n",
      "98/98 [==============================] - 35s 354ms/step - loss: 0.2182 - accuracy: 0.9192 - val_loss: 0.3348 - val_accuracy: 0.8616\n"
     ]
    }
   ],
   "source": [
    "# In the model we use an embedding layer that is learned during training. \n",
    "model = keras.models.Sequential()\n",
    "model.add(keras.layers.Embedding(input_dim=10000, output_dim=32))\n",
    "model.add(keras.layers.LSTM(units=32))\n",
    "model.add(keras.layers.Dense(units=1, activation='sigmoid'))\n",
    "\n",
    "model.compile(optimizer='rmsprop',\n",
    "              loss='binary_crossentropy',\n",
    "              metrics=['accuracy'])\n",
    "\n",
    "history = model.fit(x_train, y_train,\n",
    "                    epochs=5,\n",
    "                    batch_size=128,\n",
    "                    validation_data=(x_test, y_test))"
   ]
  },
  {
   "cell_type": "markdown",
   "id": "af9f4c20",
   "metadata": {},
   "source": [
    "# Evaluating the model"
   ]
  },
  {
   "cell_type": "code",
   "execution_count": 8,
   "id": "b14b2e62",
   "metadata": {},
   "outputs": [
    {
     "name": "stdout",
     "output_type": "stream",
     "text": [
      "391/391 [==============================] - 16s 41ms/step\n"
     ]
    }
   ],
   "source": [
    "predictions = (model.predict(x_test) > 0.5).astype(int)"
   ]
  },
  {
   "cell_type": "code",
   "execution_count": 9,
   "id": "953f495b",
   "metadata": {},
   "outputs": [
    {
     "data": {
      "text/plain": [
       "<sklearn.metrics._plot.confusion_matrix.ConfusionMatrixDisplay at 0x1a24e1c75e0>"
      ]
     },
     "execution_count": 9,
     "metadata": {},
     "output_type": "execute_result"
    },
    {
     "data": {
      "image/png": "[encoded data removed]",
      "text/plain": [
       "<Figure size 432x288 with 2 Axes>"
      ]
     },
     "metadata": {
      "needs_background": "light"
     },
     "output_type": "display_data"
    }
   ],
   "source": [
    "result = confusion_matrix(y_test, predictions)\n",
    "disp = ConfusionMatrixDisplay(result)\n",
    "disp.plot()"
   ]
  },
  {
   "cell_type": "code",
   "execution_count": null,
   "id": "1015cf76",
   "metadata": {},
   "outputs": [],
   "source": []
  }
 ],
 "metadata": {
  "kernelspec": {
   "display_name": "Python 3 (ipykernel)",
   "language": "python",
   "name": "python3"
  },
  "language_info": {
   "codemirror_mode": {
    "name": "ipython",
    "version": 3
   },
   "file_extension": ".py",
   "mimetype": "text/x-python",
   "name": "python",
   "nbconvert_exporter": "python",
   "pygments_lexer": "ipython3",
   "version": "3.9.17"
  }
 },
 "nbformat": 4,
 "nbformat_minor": 5
}
